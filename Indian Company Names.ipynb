{
 "cells": [
  {
   "cell_type": "code",
   "execution_count": 84,
   "metadata": {},
   "outputs": [],
   "source": [
    "from bs4 import BeautifulSoup\n",
    "import requests\n",
    "import urllib.request\n",
    "from os import listdir\n",
    "from os.path import isfile, join, abspath\n",
    "import pandas as pd\n",
    "import numpy as np\n",
    "from openpyxl import load_workbook"
   ]
  },
  {
   "cell_type": "code",
   "execution_count": 85,
   "metadata": {},
   "outputs": [],
   "source": [
    "def namee (name):\n",
    "    url = 'https://www.reuters.com/finance/stocks/company-profile/' + name\n",
    "    response = requests.get(url)\n",
    "    html = response.content\n",
    "    soup = BeautifulSoup(html)\n",
    "    soup1 = soup.findAll('p')[0].text\n",
    "    soup4 = soup.findAll('h1')\n",
    "    name = soup4[0].text\n",
    "    name1 = name.partition(' ')[2]\n",
    "    full_name = name1.rsplit(' ', 1)[0]\n",
    "    return (str(full_name))"
   ]
  },
  {
   "cell_type": "code",
   "execution_count": 92,
   "metadata": {},
   "outputs": [
    {
     "name": "stderr",
     "output_type": "stream",
     "text": [
      "C:\\Users\\clare\\Anaconda3\\lib\\site-packages\\ipykernel_launcher.py:7: SettingWithCopyWarning: \n",
      "A value is trying to be set on a copy of a slice from a DataFrame\n",
      "\n",
      "See the caveats in the documentation: http://pandas.pydata.org/pandas-docs/stable/indexing.html#indexing-view-versus-copy\n",
      "  import sys\n"
     ]
    }
   ],
   "source": [
    "df = pd.read_excel('india_companies_list.xlsx' , header = None, sheet_name = 'Coverage')\n",
    "\n",
    "\n",
    "for i in range(len(df[1])):\n",
    "#for i in range(0,10):\n",
    "    if pd.isnull(df[1][i]) == True:\n",
    "        df[1][i] = namee(df[0][i])"
   ]
  },
  {
   "cell_type": "code",
   "execution_count": 93,
   "metadata": {},
   "outputs": [],
   "source": [
    "book = load_workbook('india_companies_list.xlsx')\n",
    "writer = pd.ExcelWriter('india_companies_list.xlsx', engine = 'openpyxl')\n",
    "writer.book = book\n",
    "\n",
    "df.to_excel(writer, sheet_name = 'Coverage')\n",
    "writer.save()\n",
    "writer.close()"
   ]
  }
 ],
 "metadata": {
  "kernelspec": {
   "display_name": "Python 3",
   "language": "python",
   "name": "python3"
  },
  "language_info": {
   "codemirror_mode": {
    "name": "ipython",
    "version": 3
   },
   "file_extension": ".py",
   "mimetype": "text/x-python",
   "name": "python",
   "nbconvert_exporter": "python",
   "pygments_lexer": "ipython3",
   "version": "3.6.4"
  }
 },
 "nbformat": 4,
 "nbformat_minor": 2
}
